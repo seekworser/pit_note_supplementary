{
 "cells": [
  {
   "cell_type": "markdown",
   "metadata": {},
   "source": [
    "# Check that $\\sigma_i \\otimes \\sigma_j$ is block diagonalized by $Q$"
   ]
  },
  {
   "cell_type": "markdown",
   "metadata": {},
   "source": [
    "In this note, we check that direct product of Pauli matrices is block diagonalized by\n",
    "\n",
    "$Q = \\begin{pmatrix}\n",
    "  1&0&0&0\\\\\n",
    "  0&\\frac{1}{\\sqrt{2}}&\\frac{1}{\\sqrt{2}}&0\\\\\n",
    "  0&\\frac{1}{\\sqrt{2}}&-\\frac{1}{\\sqrt{2}}&0\\\\\n",
    "  0&0&1&0\n",
    "\\end{pmatrix}$\n",
    "\n",
    "like,\n",
    "\n",
    "$Q^\\dagger (\\sigma_i \\otimes \\sigma_j) Q\n",
    "= \\begin{pmatrix}\n",
    "  *&*&*&0\\\\\n",
    "  *&*&*&0\\\\\n",
    "  *&*&*&0\\\\\n",
    "  0&0&0&*\n",
    "\\end{pmatrix}\n",
    "$"
   ]
  },
  {
   "cell_type": "markdown",
   "metadata": {},
   "source": [
    "# Caluculation"
   ]
  },
  {
   "cell_type": "code",
   "execution_count": 25,
   "metadata": {},
   "outputs": [],
   "source": [
    "import numpy as np\n",
    "import itertools\n",
    "from scipy.linalg import expm\n",
    "\n",
    "\n",
    "Q = np.matrix([\n",
    "    [1, 0, 0, 0],\n",
    "    [0, 1/np.sqrt(2), 0, 1/np.sqrt(2)],\n",
    "    [0, 1/np.sqrt(2), 0, -1/np.sqrt(2)],\n",
    "    [0, 0, 1, 0]\n",
    "], dtype=np.complex128)\n",
    "\n",
    "sigma = []\n",
    "sigma.append(np.matrix([\n",
    "    [0, 1],\n",
    "    [1, 0],\n",
    "], dtype=np.complex128))\n",
    "sigma.append(np.matrix([\n",
    "    [0,-1j],\n",
    "    [1j, 0],\n",
    "], dtype=np.complex128))\n",
    "sigma.append(np.matrix([\n",
    "    [1, 0],\n",
    "    [0, -1],\n",
    "], dtype=np.complex128))"
   ]
  },
  {
   "cell_type": "code",
   "execution_count": 26,
   "metadata": {},
   "outputs": [],
   "source": [
    "def matrix_print(mat):\n",
    "    for i, j in itertools.product(range(mat.shape[0]), range(mat.shape[1])):\n",
    "        print(\"{0.real:+.3f}{0.imag:+.3f}i \".format(mat[i, j]), end=\"\")\n",
    "        if j == mat.shape[1] - 1:\n",
    "            print(\"\")\n",
    "    return"
   ]
  },
  {
   "cell_type": "code",
   "execution_count": 27,
   "metadata": {},
   "outputs": [
    {
     "name": "stdout",
     "output_type": "stream",
     "text": [
      "##############################\n",
      "\n",
      "Q^dagger (sigma_1 * sigma_1) Q =\n",
      "+0.000+0.000i +0.000+0.000i +1.000+0.000i +0.000+0.000i \n",
      "+0.000+0.000i +1.000+0.000i +0.000+0.000i -0.000+0.000i \n",
      "+1.000+0.000i +0.000+0.000i +0.000+0.000i +0.000+0.000i \n",
      "+0.000+0.000i +0.000+0.000i +0.000+0.000i -1.000+0.000i \n",
      "\n",
      "##############################\n",
      "\n",
      "Q^dagger (sigma_1 * sigma_2) Q =\n",
      "+0.000+0.000i +0.000+0.000i +0.000-1.000i +0.000+0.000i \n",
      "+0.000+0.000i +0.000+0.000i +0.000+0.000i +0.000-1.000i \n",
      "+0.000+1.000i +0.000+0.000i +0.000+0.000i +0.000+0.000i \n",
      "+0.000+0.000i +0.000+1.000i +0.000+0.000i +0.000-0.000i \n",
      "\n",
      "##############################\n",
      "\n",
      "Q^dagger (sigma_1 * sigma_3) Q =\n",
      "+0.000+0.000i +0.707+0.000i +0.000+0.000i -0.707+0.000i \n",
      "+0.707+0.000i +0.000+0.000i -0.707+0.000i +0.000+0.000i \n",
      "+0.000+0.000i -0.707+0.000i +0.000+0.000i -0.707+0.000i \n",
      "-0.707+0.000i +0.000+0.000i -0.707+0.000i +0.000+0.000i \n",
      "\n",
      "##############################\n",
      "\n",
      "Q^dagger (sigma_2 * sigma_1) Q =\n",
      "+0.000+0.000i +0.000+0.000i +0.000-1.000i +0.000+0.000i \n",
      "+0.000+0.000i +0.000-0.000i +0.000+0.000i +0.000+1.000i \n",
      "+0.000+1.000i +0.000+0.000i +0.000+0.000i +0.000+0.000i \n",
      "+0.000+0.000i +0.000-1.000i +0.000+0.000i +0.000+0.000i \n",
      "\n",
      "##############################\n",
      "\n",
      "Q^dagger (sigma_2 * sigma_2) Q =\n",
      "+0.000+0.000i +0.000+0.000i -1.000+0.000i +0.000+0.000i \n",
      "+0.000+0.000i +1.000+0.000i +0.000+0.000i -0.000+0.000i \n",
      "-1.000+0.000i +0.000+0.000i +0.000+0.000i +0.000+0.000i \n",
      "+0.000+0.000i +0.000+0.000i +0.000+0.000i -1.000+0.000i \n",
      "\n",
      "##############################\n",
      "\n",
      "Q^dagger (sigma_2 * sigma_3) Q =\n",
      "+0.000+0.000i +0.000-0.707i +0.000+0.000i +0.000+0.707i \n",
      "+0.000+0.707i +0.000+0.000i +0.000+0.707i +0.000+0.000i \n",
      "+0.000+0.000i +0.000-0.707i +0.000+0.000i +0.000-0.707i \n",
      "+0.000-0.707i +0.000+0.000i +0.000+0.707i +0.000+0.000i \n",
      "\n",
      "##############################\n",
      "\n",
      "Q^dagger (sigma_3 * sigma_1) Q =\n",
      "+0.000+0.000i +0.707+0.000i +0.000+0.000i +0.707+0.000i \n",
      "+0.707+0.000i +0.000+0.000i -0.707+0.000i +0.000+0.000i \n",
      "+0.000+0.000i -0.707+0.000i +0.000+0.000i +0.707+0.000i \n",
      "+0.707+0.000i +0.000+0.000i +0.707+0.000i +0.000+0.000i \n",
      "\n",
      "##############################\n",
      "\n",
      "Q^dagger (sigma_3 * sigma_2) Q =\n",
      "+0.000+0.000i +0.000-0.707i +0.000+0.000i +0.000-0.707i \n",
      "+0.000+0.707i +0.000+0.000i +0.000+0.707i +0.000+0.000i \n",
      "+0.000+0.000i +0.000-0.707i +0.000+0.000i +0.000+0.707i \n",
      "+0.000+0.707i +0.000+0.000i +0.000-0.707i +0.000+0.000i \n",
      "\n",
      "##############################\n",
      "\n",
      "Q^dagger (sigma_3 * sigma_3) Q =\n",
      "+1.000+0.000i +0.000+0.000i +0.000+0.000i +0.000+0.000i \n",
      "+0.000+0.000i -1.000+0.000i +0.000+0.000i +0.000+0.000i \n",
      "+0.000+0.000i +0.000+0.000i +1.000+0.000i +0.000+0.000i \n",
      "+0.000+0.000i +0.000+0.000i +0.000+0.000i -1.000+0.000i \n",
      "\n"
     ]
    }
   ],
   "source": [
    "for i, j in itertools.product(range(3), range(3)):\n",
    "    print(\"#\" * 30)\n",
    "    print(\"\")\n",
    "    mat = np.kron(sigma[i], sigma[j])\n",
    "    print(\"Q^dagger (sigma_{} * sigma_{}) Q =\".format(i + 1, j + 1))\n",
    "    matrix_print(Q.H * mat * Q)\n",
    "    print(\"\")"
   ]
  },
  {
   "cell_type": "markdown",
   "metadata": {},
   "source": [
    "# Diagonalization of $\\sigma_1 \\oplus \\sigma_2$"
   ]
  },
  {
   "cell_type": "markdown",
   "metadata": {},
   "source": [
    "### brief check"
   ]
  },
  {
   "cell_type": "code",
   "execution_count": 34,
   "metadata": {},
   "outputs": [
    {
     "name": "stdout",
     "output_type": "stream",
     "text": [
      "+2.381+0.000i +0.000-1.813i +1.813+0.000i +0.000-1.381i \n",
      "+0.000+1.813i +2.381+0.000i +0.000+1.381i +1.813+0.000i \n",
      "+1.813+0.000i +0.000-1.381i +2.381+0.000i +0.000-1.813i \n",
      "+0.000+1.381i +1.813+0.000i +0.000+1.813i +2.381+0.000i \n"
     ]
    }
   ],
   "source": [
    "matrix_print(\n",
    "    np.kron(expm(sigma[0]), expm(sigma[1]))\n",
    ")"
   ]
  },
  {
   "cell_type": "code",
   "execution_count": 35,
   "metadata": {},
   "outputs": [
    {
     "name": "stdout",
     "output_type": "stream",
     "text": [
      "+2.381+0.000i +0.000-1.813i +1.813+0.000i +0.000-1.381i \n",
      "+0.000+1.813i +2.381+0.000i +0.000+1.381i +1.813+0.000i \n",
      "+1.813+0.000i +0.000-1.381i +2.381+0.000i +0.000-1.813i \n",
      "+0.000+1.381i +1.813+0.000i +0.000+1.813i +2.381+0.000i \n"
     ]
    }
   ],
   "source": [
    "matrix_print(\n",
    "    expm(np.kron(sigma[0], np.identity(2)) + np.kron(np.identity(2), sigma[1]))\n",
    ")"
   ]
  },
  {
   "cell_type": "markdown",
   "metadata": {},
   "source": [
    "### dioganalization of $\\sigma_1 \\oplus \\sigma_2$"
   ]
  },
  {
   "cell_type": "markdown",
   "metadata": {},
   "source": [
    "$\\sigma_1 \\oplus \\sigma_2 = \\begin{pmatrix}\n",
    "  0 & -i & 1 & 0\\\\\n",
    "  i & 0 & 0 & 1\\\\\n",
    "  1 & 0 & 0 & -i\\\\\n",
    "  0 & 1 & i & 0\n",
    "\\end{pmatrix}\n",
    "$"
   ]
  },
  {
   "cell_type": "code",
   "execution_count": 74,
   "metadata": {},
   "outputs": [],
   "source": [
    "sig_12 = np.kron(sigma[0], np.identity(2)) + np.kron(np.identity(2), sigma[1])\n",
    "eigs, u = np.linalg.eigh(sig_12)\n",
    "\n",
    "d = np.matrix(np.diag(eigs))"
   ]
  },
  {
   "cell_type": "code",
   "execution_count": 75,
   "metadata": {},
   "outputs": [
    {
     "name": "stdout",
     "output_type": "stream",
     "text": [
      "diagonalized:\n",
      "-2.000+0.000i +0.000+0.000i +0.000+0.000i +0.000+0.000i \n",
      "+0.000+0.000i -0.000+0.000i +0.000+0.000i +0.000+0.000i \n",
      "+0.000+0.000i +0.000+0.000i +0.000+0.000i +0.000+0.000i \n",
      "+0.000+0.000i +0.000+0.000i +0.000+0.000i +2.000+0.000i \n",
      "\n",
      "##############################\n",
      "unitary matrix:\n",
      "-0.500+0.000i +0.648-0.000i -0.283+0.000i -0.500+0.000i \n",
      "+0.000+0.500i -0.204-0.196i -0.466-0.450i +0.000-0.500i \n",
      "+0.500-0.000i +0.196-0.204i +0.450-0.466i -0.500+0.000i \n",
      "+0.000-0.500i +0.000-0.648i +0.000+0.283i +0.000-0.500i \n",
      "\n",
      "##############################\n",
      "validation check:\n",
      "-0.000+0.000i +0.000-1.000i +1.000-0.000i +0.000-0.000i \n",
      "+0.000+1.000i +0.000-0.000i +0.000-0.000i +1.000+0.000i \n",
      "+1.000+0.000i +0.000+0.000i +0.000+0.000i -0.000-1.000i \n",
      "+0.000+0.000i +1.000-0.000i -0.000+1.000i +0.000+0.000i \n"
     ]
    }
   ],
   "source": [
    "print(\"diagonalized:\")\n",
    "matrix_print(d)\n",
    "print(\"\\n\" + \"#\" * 30)\n",
    "print(\"unitary matrix:\")\n",
    "matrix_print(u)\n",
    "print(\"\\n\" + \"#\" * 30)\n",
    "print(\"validation check:\")\n",
    "matrix_print(u * d * u.H)"
   ]
  },
  {
   "cell_type": "code",
   "execution_count": 78,
   "metadata": {},
   "outputs": [
    {
     "name": "stdout",
     "output_type": "stream",
     "text": [
      "7.524391382167262\n",
      "9.524391382167263\n"
     ]
    }
   ],
   "source": [
    "print(np.e ** 2 + np.e ** -2)\n",
    "print((np.e + np.e ** -1) ** 2)"
   ]
  },
  {
   "cell_type": "code",
   "execution_count": null,
   "metadata": {},
   "outputs": [],
   "source": []
  }
 ],
 "metadata": {
  "kernelspec": {
   "display_name": "Python 3",
   "language": "python",
   "name": "python3"
  },
  "language_info": {
   "codemirror_mode": {
    "name": "ipython",
    "version": 3
   },
   "file_extension": ".py",
   "mimetype": "text/x-python",
   "name": "python",
   "nbconvert_exporter": "python",
   "pygments_lexer": "ipython3",
   "version": "3.5.5"
  }
 },
 "nbformat": 4,
 "nbformat_minor": 2
}
