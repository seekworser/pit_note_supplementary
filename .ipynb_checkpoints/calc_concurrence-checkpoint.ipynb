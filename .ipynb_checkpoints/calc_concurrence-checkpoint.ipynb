{
 "cells": [
  {
   "cell_type": "markdown",
   "metadata": {},
   "source": [
    "# consurrenceの計算確認"
   ]
  },
  {
   "cell_type": "markdown",
   "metadata": {},
   "source": [
    "## moduleのimport、パラメータの設定"
   ]
  },
  {
   "cell_type": "code",
   "execution_count": 3,
   "metadata": {},
   "outputs": [
    {
     "name": "stdout",
     "output_type": "stream",
     "text": [
      "parameters:\n",
      "c: 3.000e+08\n",
      "D_plus: 1.833e-10\n",
      "D: -1.667e-10\n",
      "L: 3.000e-03\n",
      "tau_plus: 5.500e-13\n",
      "tau_minus: -2.500e-13\n",
      "\n"
     ]
    }
   ],
   "source": [
    "import numpy as np\n",
    "import matplotlib.pyplot as plt\n",
    "\n",
    "\n",
    "c = 3.0 * 10 ** 8\n",
    "D_plus = 0.055 / c\n",
    "D = -0.050 / c\n",
    "L = 3 * 10 ** -3\n",
    "\n",
    "tau_plus = L * D_plus\n",
    "tau_minus = L * D / 2\n",
    "\n",
    "s = \"parameters:\\n\"\n",
    "s += \"c: {:.3e}\\n\".format(c)\n",
    "s += \"D_plus: {:.3e}\\n\".format(D_plus)\n",
    "s += \"D: {:.3e}\\n\".format(D)\n",
    "s += \"L: {:.3e}\\n\".format(L)\n",
    "s += \"tau_plus: {:.3e}\\n\".format(tau_plus)\n",
    "s += \"tau_minus: {:.3e}\\n\".format(tau_minus)\n",
    "print(s)"
   ]
  },
  {
   "cell_type": "markdown",
   "metadata": {},
   "source": [
    "## 被積分関数の定義"
   ]
  },
  {
   "cell_type": "code",
   "execution_count": 4,
   "metadata": {},
   "outputs": [],
   "source": [
    "def Phi(omega_0, Omega):\n",
    "    # Be aware that np.sinc(x) returns sin(pi * x) / (pi * x)\n",
    "    return np.sinc(\n",
    "        (omega_0 * tau_plus + Omega * tau_minus)\n",
    "    )"
   ]
  },
  {
   "cell_type": "code",
   "execution_count": null,
   "metadata": {},
   "outputs": [],
   "source": []
  }
 ],
 "metadata": {
  "kernelspec": {
   "display_name": "Python 3",
   "language": "python",
   "name": "python3"
  },
  "language_info": {
   "codemirror_mode": {
    "name": "ipython",
    "version": 3
   },
   "file_extension": ".py",
   "mimetype": "text/x-python",
   "name": "python",
   "nbconvert_exporter": "python",
   "pygments_lexer": "ipython3",
   "version": "3.5.5"
  }
 },
 "nbformat": 4,
 "nbformat_minor": 2
}
