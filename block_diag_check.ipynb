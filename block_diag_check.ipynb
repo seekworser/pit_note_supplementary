{
 "cells": [
  {
   "cell_type": "markdown",
   "metadata": {},
   "source": [
    "# Check that $\\sigma_i \\otimes \\sigma_i$ is block diagonalized by $Q$"
   ]
  },
  {
   "cell_type": "markdown",
   "metadata": {},
   "source": [
    "In this note, we check that direct product of Pauli matrices is block diagonalized by\n",
    "\n",
    "$Q = \\begin{pmatrix}\n",
    "  1&0&0&0\\\\\n",
    "  0&\\frac{1}{\\sqrt{2}}&\\frac{1}{\\sqrt{2}}&0\\\\\n",
    "  0&\\frac{1}{\\sqrt{2}}&-\\frac{1}{\\sqrt{2}}&0\\\\\n",
    "  0&0&1&0\n",
    "\\end{pmatrix}$\n",
    "\n",
    "like,\n",
    "\n",
    "$Q^\\dagger (\\sigma_i \\otimes \\sigma_j) Q\n",
    "= \\begin{pmatrix}\n",
    "  *&*&*&0\\\\\n",
    "  *&*&*&0\\\\\n",
    "  *&*&*&0\\\\\n",
    "  0&0&0&*\n",
    "\\end{pmatrix}\n",
    "$"
   ]
  },
  {
   "cell_type": "markdown",
   "metadata": {},
   "source": [
    "# Caluculation"
   ]
  },
  {
   "cell_type": "code",
   "execution_count": 20,
   "metadata": {},
   "outputs": [],
   "source": [
    "import numpy as np\n",
    "import itertools\n",
    "\n",
    "\n",
    "Q = np.matrix([\n",
    "    [1, 0, 0, 0],\n",
    "    [0, 1/np.sqrt(2), 0, 1/np.sqrt(2)],\n",
    "    [0, 1/np.sqrt(2), 0, -1/np.sqrt(2)],\n",
    "    [0, 0, 1, 0]\n",
    "], dtype=np.complex128)\n",
    "\n",
    "sigma = []\n",
    "sigma.append(np.matrix([\n",
    "    [0, 1],\n",
    "    [1, 0],\n",
    "], dtype=np.complex128))\n",
    "sigma.append(np.matrix([\n",
    "    [0,-1j],\n",
    "    [1j, 0],\n",
    "], dtype=np.complex128))\n",
    "sigma.append(np.matrix([\n",
    "    [1, 0],\n",
    "    [0, -1],\n",
    "], dtype=np.complex128))"
   ]
  },
  {
   "cell_type": "code",
   "execution_count": 28,
   "metadata": {},
   "outputs": [],
   "source": [
    "def matrix_print(mat):\n",
    "    for i, j in itertools.product(range(mat.shape[0]), range(mat.shape[1])):\n",
    "        print(\"{0.real:+.3f}{0.imag:+.3f}i \".format(mat[i, j]), end=\"\")\n",
    "        if j == mat.shape[1] - 1:\n",
    "            print(\"\")\n",
    "    return"
   ]
  },
  {
   "cell_type": "code",
   "execution_count": 30,
   "metadata": {},
   "outputs": [
    {
     "name": "stdout",
     "output_type": "stream",
     "text": [
      "##############################\n",
      "\n",
      "Q^dagger (sigma_1 * sigma_1) Q =\n",
      "+0.000+0.000i +0.000+0.000i +1.000+0.000i +0.000+0.000i \n",
      "+0.000+0.000i +1.000+0.000i +0.000+0.000i -0.000+0.000i \n",
      "+1.000+0.000i +0.000+0.000i +0.000+0.000i +0.000+0.000i \n",
      "+0.000+0.000i +0.000+0.000i +0.000+0.000i -1.000+0.000i \n",
      "\n",
      "##############################\n",
      "\n",
      "Q^dagger (sigma_1 * sigma_2) Q =\n",
      "+0.000+0.000i +0.000+0.000i +0.000-1.000i +0.000+0.000i \n",
      "+0.000+0.000i +0.000+0.000i +0.000+0.000i +0.000-1.000i \n",
      "+0.000+1.000i +0.000+0.000i +0.000+0.000i +0.000+0.000i \n",
      "+0.000+0.000i +0.000+1.000i +0.000+0.000i +0.000-0.000i \n",
      "\n",
      "##############################\n",
      "\n",
      "Q^dagger (sigma_1 * sigma_3) Q =\n",
      "+0.000+0.000i +0.707+0.000i +0.000+0.000i -0.707+0.000i \n",
      "+0.707+0.000i +0.000+0.000i -0.707+0.000i +0.000+0.000i \n",
      "+0.000+0.000i -0.707+0.000i +0.000+0.000i -0.707+0.000i \n",
      "-0.707+0.000i +0.000+0.000i -0.707+0.000i +0.000+0.000i \n",
      "\n",
      "##############################\n",
      "\n",
      "Q^dagger (sigma_2 * sigma_1) Q =\n",
      "+0.000+0.000i +0.000+0.000i +0.000-1.000i +0.000+0.000i \n",
      "+0.000+0.000i +0.000-0.000i +0.000+0.000i +0.000+1.000i \n",
      "+0.000+1.000i +0.000+0.000i +0.000+0.000i +0.000+0.000i \n",
      "+0.000+0.000i +0.000-1.000i +0.000+0.000i +0.000+0.000i \n",
      "\n",
      "##############################\n",
      "\n",
      "Q^dagger (sigma_2 * sigma_2) Q =\n",
      "+0.000+0.000i +0.000+0.000i -1.000+0.000i +0.000+0.000i \n",
      "+0.000+0.000i +1.000+0.000i +0.000+0.000i -0.000+0.000i \n",
      "-1.000+0.000i +0.000+0.000i +0.000+0.000i +0.000+0.000i \n",
      "+0.000+0.000i +0.000+0.000i +0.000+0.000i -1.000+0.000i \n",
      "\n",
      "##############################\n",
      "\n",
      "Q^dagger (sigma_2 * sigma_3) Q =\n",
      "+0.000+0.000i +0.000-0.707i +0.000+0.000i +0.000+0.707i \n",
      "+0.000+0.707i +0.000+0.000i +0.000+0.707i +0.000+0.000i \n",
      "+0.000+0.000i +0.000-0.707i +0.000+0.000i +0.000-0.707i \n",
      "+0.000-0.707i +0.000+0.000i +0.000+0.707i +0.000+0.000i \n",
      "\n",
      "##############################\n",
      "\n",
      "Q^dagger (sigma_3 * sigma_1) Q =\n",
      "+0.000+0.000i +0.707+0.000i +0.000+0.000i +0.707+0.000i \n",
      "+0.707+0.000i +0.000+0.000i -0.707+0.000i +0.000+0.000i \n",
      "+0.000+0.000i -0.707+0.000i +0.000+0.000i +0.707+0.000i \n",
      "+0.707+0.000i +0.000+0.000i +0.707+0.000i +0.000+0.000i \n",
      "\n",
      "##############################\n",
      "\n",
      "Q^dagger (sigma_3 * sigma_2) Q =\n",
      "+0.000+0.000i +0.000-0.707i +0.000+0.000i +0.000-0.707i \n",
      "+0.000+0.707i +0.000+0.000i +0.000+0.707i +0.000+0.000i \n",
      "+0.000+0.000i +0.000-0.707i +0.000+0.000i +0.000+0.707i \n",
      "+0.000+0.707i +0.000+0.000i +0.000-0.707i +0.000+0.000i \n",
      "\n",
      "##############################\n",
      "\n",
      "Q^dagger (sigma_3 * sigma_3) Q =\n",
      "+1.000+0.000i +0.000+0.000i +0.000+0.000i +0.000+0.000i \n",
      "+0.000+0.000i -1.000+0.000i +0.000+0.000i +0.000+0.000i \n",
      "+0.000+0.000i +0.000+0.000i +1.000+0.000i +0.000+0.000i \n",
      "+0.000+0.000i +0.000+0.000i +0.000+0.000i -1.000+0.000i \n",
      "\n"
     ]
    }
   ],
   "source": [
    "for i, j in itertools.product(range(3), range(3)):\n",
    "    print(\"#\" * 30)\n",
    "    print(\"\")\n",
    "    mat = np.kron(sigma[i], sigma[j])\n",
    "    print(\"Q^dagger (sigma_{} * sigma_{}) Q =\".format(i + 1, j + 1))\n",
    "    matrix_print(Q.H * mat * Q)\n",
    "    print(\"\")"
   ]
  },
  {
   "cell_type": "code",
   "execution_count": null,
   "metadata": {},
   "outputs": [],
   "source": []
  }
 ],
 "metadata": {
  "kernelspec": {
   "display_name": "Python 3",
   "language": "python",
   "name": "python3"
  },
  "language_info": {
   "codemirror_mode": {
    "name": "ipython",
    "version": 3
   },
   "file_extension": ".py",
   "mimetype": "text/x-python",
   "name": "python",
   "nbconvert_exporter": "python",
   "pygments_lexer": "ipython3",
   "version": "3.5.5"
  }
 },
 "nbformat": 4,
 "nbformat_minor": 2
}
