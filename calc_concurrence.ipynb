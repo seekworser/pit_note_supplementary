{
 "cells": [
  {
   "cell_type": "markdown",
   "metadata": {},
   "source": [
    "# consurrenceの計算確認"
   ]
  },
  {
   "cell_type": "markdown",
   "metadata": {},
   "source": [
    "## moduleのimport、パラメータの設定"
   ]
  },
  {
   "cell_type": "code",
   "execution_count": 2,
   "metadata": {},
   "outputs": [
    {
     "name": "stdout",
     "output_type": "stream",
     "text": [
      "parameters:\n",
      "c: 3.000e+08\n",
      "D_plus: 1.833e-10\n",
      "D: -1.667e-10\n",
      "L: 3.000e-03\n",
      "tau_plus: 5.500e-13\n",
      "tau_minus: -2.500e-13\n",
      "\n"
     ]
    }
   ],
   "source": [
    "import numpy as np\n",
    "import matplotlib.pyplot as plt\n",
    "\n",
    "\n",
    "c = 3.0 * 10 ** 8\n",
    "D_plus = 0.055 / c\n",
    "D = -0.050 / c\n",
    "L = 3 * 10 ** -3\n",
    "\n",
    "tau_plus = L * D_plus\n",
    "tau_minus = L * D / 2\n",
    "\n",
    "s = \"parameters:\\n\"\n",
    "s += \"c: {:.3e}\\n\".format(c)\n",
    "s += \"D_plus: {:.3e}\\n\".format(D_plus)\n",
    "s += \"D: {:.3e}\\n\".format(D)\n",
    "s += \"L: {:.3e}\\n\".format(L)\n",
    "s += \"tau_plus: {:.3e}\\n\".format(tau_plus)\n",
    "s += \"tau_minus: {:.3e}\\n\".format(tau_minus)\n",
    "print(s)"
   ]
  },
  {
   "cell_type": "markdown",
   "metadata": {},
   "source": [
    "## 被積分関数の定義"
   ]
  },
  {
   "cell_type": "code",
   "execution_count": 3,
   "metadata": {},
   "outputs": [],
   "source": [
    "def Phi(omega_0, Omega):\n",
    "    \"\"\"\n",
    "    omega_0 [rad/s]\n",
    "    Omega [rad/s]\n",
    "    \"\"\"\n",
    "    # Be aware that np.sinc(x) returns sin(pi * x) / (pi * x)\n",
    "    return np.sinc(\n",
    "        (omega_0 * tau_plus + Omega * tau_minus) / np.pi\n",
    "    )\n",
    "\n",
    "def integrand1(omega_0, Omega, sigma_0):\n",
    "    \"\"\"\n",
    "    omega_0 [rad/s]\n",
    "    Omega [rad/s]\n",
    "    sigma_0 [rad/s]\n",
    "    \"\"\"\n",
    "    return np.exp(-(2 * omega_0 / sigma_0)) * np.abs(\n",
    "        Phi(omega_0, Omega) * Phi(omega_0, -Omega)\n",
    "    )\n",
    "\n",
    "def integrand2(omega_0, Omega, sigma_0):\n",
    "    \"\"\"\n",
    "    omega_0 [rad/s]\n",
    "    Omega [rad/s]\n",
    "    sigma_0 [rad/s]\n",
    "    \"\"\"\n",
    "    return np.exp(-(2 * omega_0 / sigma_0)) * np.abs(\n",
    "        Phi(omega_0, Omega) ** 2 +  Phi(omega_0, -Omega) ** 2\n",
    "    )"
   ]
  },
  {
   "cell_type": "code",
   "execution_count": 16,
   "metadata": {},
   "outputs": [
    {
     "data": {
      "text/plain": [
       "[<matplotlib.lines.Line2D at 0x11bd23400>]"
      ]
     },
     "execution_count": 16,
     "metadata": {},
     "output_type": "execute_result"
    },
    {
     "data": {
      "image/png": "[encoded data removed]",
      "text/plain": [
       "<matplotlib.figure.Figure at 0x11bbcfb70>"
      ]
     },
     "metadata": {},
     "output_type": "display_data"
    }
   ],
   "source": [
    "points = np.arange(1, 10 ** 15, 10 ** 12)\n",
    "val = Phi(10 ** 14, points)\n",
    "\n",
    "plt.plot(val)"
   ]
  },
  {
   "cell_type": "markdown",
   "metadata": {},
   "source": [
    "## 積分範囲の見積もり"
   ]
  },
  {
   "cell_type": "code",
   "execution_count": 8,
   "metadata": {},
   "outputs": [
    {
     "name": "stderr",
     "output_type": "stream",
     "text": [
      "//anaconda/lib/python3.5/site-packages/ipykernel_launcher.py:17: RuntimeWarning: overflow encountered in exp\n"
     ]
    },
    {
     "data": {
      "text/plain": [
       "<matplotlib.colorbar.Colorbar at 0x113b6cb70>"
      ]
     },
     "execution_count": 8,
     "metadata": {},
     "output_type": "execute_result"
    },
    {
     "data": {
      "image/png": "[encoded data removed]",
      "text/plain": [
       "<matplotlib.figure.Figure at 0x113967748>"
      ]
     },
     "metadata": {},
     "output_type": "display_data"
    }
   ],
   "source": [
    "n_omega_0 = 100\n",
    "n_Omega = 100\n",
    "omega_0_max = 1 * 10 ** 15  # ~ 300 THz\n",
    "Omega_max = 1 * 10 ** 15  # ~ 300 THz\n",
    "sigma_0 = 1 * 10 ** 12\n",
    "\n",
    "omega_0_points = np.linspace(-omega_0_max, omega_0_max, num=n_omega_0)\n",
    "Omega_points = np.linspace(0, Omega_max, num=n_Omega)\n",
    "\n",
    "omega_0_coordinates, Omega_coordinates = np.meshgrid(\n",
    "    omega_0_points,\n",
    "    Omega_points\n",
    ")\n",
    "image1 = integrand1(\n",
    "    omega_0_coordinates,\n",
    "    Omega_coordinates,\n",
    "    sigma_0,\n",
    ")\n",
    "\n",
    "fig = plt.figure()\n",
    "im = plt.imshow(image1)\n",
    "plt.colorbar(im)"
   ]
  },
  {
   "cell_type": "code",
   "execution_count": null,
   "metadata": {},
   "outputs": [],
   "source": []
  }
 ],
 "metadata": {
  "kernelspec": {
   "display_name": "Python 3",
   "language": "python",
   "name": "python3"
  },
  "language_info": {
   "codemirror_mode": {
    "name": "ipython",
    "version": 3
   },
   "file_extension": ".py",
   "mimetype": "text/x-python",
   "name": "python",
   "nbconvert_exporter": "python",
   "pygments_lexer": "ipython3",
   "version": "3.5.5"
  }
 },
 "nbformat": 4,
 "nbformat_minor": 2
}
